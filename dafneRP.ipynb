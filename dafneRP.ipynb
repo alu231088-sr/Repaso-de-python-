{
  "nbformat": 4,
  "nbformat_minor": 0,
  "metadata": {
    "colab": {
      "provenance": [],
      "authorship_tag": "ABX9TyMkK5dNFpOqQQvtvtSeSjs1",
      "include_colab_link": true
    },
    "kernelspec": {
      "name": "python3",
      "display_name": "Python 3"
    },
    "language_info": {
      "name": "python"
    }
  },
  "cells": [
    {
      "cell_type": "markdown",
      "metadata": {
        "id": "view-in-github",
        "colab_type": "text"
      },
      "source": [
        "<a href=\"https://colab.research.google.com/github/alu231088-sr/Repaso-de-python-/blob/main/dafneRP.ipynb\" target=\"_parent\"><img src=\"https://colab.research.google.com/assets/colab-badge.svg\" alt=\"Open In Colab\"/></a>"
      ]
    },
    {
      "cell_type": "code",
      "execution_count": null,
      "metadata": {
        "id": "Ox6mBOhk-6_o"
      },
      "outputs": [],
      "source": []
    },
    {
      "cell_type": "markdown",
      "source": [
        "realizar un programa que permita capturar tu nombre y donde imprima seguida de una bienvenida"
      ],
      "metadata": {
        "id": "Uzyjbhc__OT7"
      }
    },
    {
      "cell_type": "code",
      "source": [
        "print(\"hola mundo\")"
      ],
      "metadata": {
        "colab": {
          "base_uri": "https://localhost:8080/"
        },
        "id": "XpORrUh0_f9y",
        "outputId": "9e110323-528a-46b6-b551-97a5c174001b"
      },
      "execution_count": 1,
      "outputs": [
        {
          "output_type": "stream",
          "name": "stdout",
          "text": [
            "hola mundo\n"
          ]
        }
      ]
    },
    {
      "cell_type": "code",
      "source": [
        "capturarNombre = input(\"escribe tu nombre:\")\n",
        "print(\"tu nombre es...\", capturarNombre)\n",
        "print(\"bienvenida!!\")"
      ],
      "metadata": {
        "colab": {
          "base_uri": "https://localhost:8080/"
        },
        "id": "r-89HITcApcC",
        "outputId": "68ea1d83-cf5b-40e1-eb65-2978adc59aa1"
      },
      "execution_count": 2,
      "outputs": [
        {
          "output_type": "stream",
          "name": "stdout",
          "text": [
            "escribe tu nombre:dafne\n",
            "tu nombre es... dafne\n",
            "bienvenida!!\n"
          ]
        }
      ]
    },
    {
      "cell_type": "code",
      "source": [],
      "metadata": {
        "id": "rRKabwxuApah"
      },
      "execution_count": 1,
      "outputs": []
    },
    {
      "cell_type": "markdown",
      "source": [
        "realizar un programa que permita capturar 2 numeros enteros e imprimir la suma, la resta, la multilicacion y la division entre ellos"
      ],
      "metadata": {
        "id": "w2vfMhaYDVq7"
      }
    },
    {
      "cell_type": "code",
      "source": [
        "num1 = int(input(\"captura un numero \"))\n",
        "num2 = int(input(\"captura un numero\"))\n",
        "s=num1+num2\n",
        "r=num1-num2\n",
        "m=num1*num2\n",
        "d=num1/num2\n",
        "print(\"la suma es \", s)\n",
        "print(\"la resta es \", r)\n",
        "r=num1-num2\n",
        "print(\"la multiplicacion es \", m)\n",
        "m=num1*num2\n",
        "print(\"la division es \", d)\n",
        "d=num1/num2"
      ],
      "metadata": {
        "colab": {
          "base_uri": "https://localhost:8080/"
        },
        "id": "u_WzmJCtDphh",
        "outputId": "2ebfa48a-d3ed-44cb-9f94-0193f6ae5177"
      },
      "execution_count": 3,
      "outputs": [
        {
          "output_type": "stream",
          "name": "stdout",
          "text": [
            "captura un numero 5\n",
            "captura un numero4\n",
            "la suma es  9\n",
            "la resta es  1\n",
            "la multiplicacion es  20\n",
            "la division es  1.25\n"
          ]
        }
      ]
    }
  ]
}