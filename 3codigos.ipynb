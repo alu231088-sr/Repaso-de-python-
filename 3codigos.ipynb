{
  "nbformat": 4,
  "nbformat_minor": 0,
  "metadata": {
    "colab": {
      "provenance": [],
      "authorship_tag": "ABX9TyMnYLfGIt9/iCWfQbtJkuGd",
      "include_colab_link": true
    },
    "kernelspec": {
      "name": "python3",
      "display_name": "Python 3"
    },
    "language_info": {
      "name": "python"
    }
  },
  "cells": [
    {
      "cell_type": "markdown",
      "metadata": {
        "id": "view-in-github",
        "colab_type": "text"
      },
      "source": [
        "<a href=\"https://colab.research.google.com/github/alu231088-sr/Repaso-de-python-/blob/main/3codigos.ipynb\" target=\"_parent\"><img src=\"https://colab.research.google.com/assets/colab-badge.svg\" alt=\"Open In Colab\"/></a>"
      ]
    },
    {
      "cell_type": "code",
      "execution_count": null,
      "metadata": {
        "id": "UlXZwVf8BZWr"
      },
      "outputs": [],
      "source": []
    },
    {
      "cell_type": "markdown",
      "source": [
        "Realizar un programa en python que te permita capturar 3 números enteros e imprima cual de los 3 es el mayor"
      ],
      "metadata": {
        "id": "-glyTLt7Bv6A"
      }
    },
    {
      "cell_type": "code",
      "source": [
        "num1=int(input(\"ingrese el primer numero:\"))\n",
        "num2=int(input(\"ingrese el segundo numero:\"))\n",
        "num3=int(input(\"ingrese el tercer numero\"))\n",
        "\n",
        "mayor = max(num1, num2 , num3)\n",
        "print(f\"el numero mayor es:{mayor}\")\n"
      ],
      "metadata": {
        "colab": {
          "base_uri": "https://localhost:8080/"
        },
        "id": "58TiI-RGB1Nj",
        "outputId": "5a51e359-0f48-4659-ff43-599dcf78f818"
      },
      "execution_count": 2,
      "outputs": [
        {
          "output_type": "stream",
          "name": "stdout",
          "text": [
            "ingrese el primer numero:5\n",
            "ingrese el segundo numero:4\n",
            "ingrese el tercer numero2\n",
            "el numero mayor es:5\n"
          ]
        }
      ]
    },
    {
      "cell_type": "markdown",
      "source": [
        " Realizar un programa en python mediante el cual calcules el total de caracteres que tiene un nombre capturado desde el teclado."
      ],
      "metadata": {
        "id": "HwAzPLSFEWgb"
      }
    },
    {
      "cell_type": "code",
      "source": [
        "palabra = input(\"ingresa la palabra: \")\n",
        "caracteres = len(palabra)\n",
        "print(\"la palabra tiene...\", caracteres, \"caracteres\")"
      ],
      "metadata": {
        "colab": {
          "base_uri": "https://localhost:8080/"
        },
        "id": "v-E2zn43Edwz",
        "outputId": "f2393e62-0464-404c-a911-e84bbf8a4798"
      },
      "execution_count": 3,
      "outputs": [
        {
          "output_type": "stream",
          "name": "stdout",
          "text": [
            "ingresa la palabra: girasoles\n",
            "la palabra tiene... 9 caracteres\n"
          ]
        }
      ]
    },
    {
      "cell_type": "markdown",
      "source": [
        "3.- Realizar un programa en python que permita imprimir los 7 días de la semana.\n"
      ],
      "metadata": {
        "id": "A3cOCMtYFt3e"
      }
    },
    {
      "cell_type": "code",
      "source": [
        "respuesta = input(\"presiona 0 para los dias de la semana y 2 para cerrar el programa: \")\n",
        "if respuesta == \"0\":\n",
        "  print(\"lunes\")\n",
        "  print(\"martes\")\n",
        "  print(\"miercoles\")\n",
        "  print(\"jueves\")\n",
        "  print(\"viernes\")\n",
        "  print(\"sabado\")\n",
        "  print(\"domingo\")\n",
        "\n",
        "else:\n",
        "  print(\"adios\")"
      ],
      "metadata": {
        "colab": {
          "base_uri": "https://localhost:8080/"
        },
        "id": "UciElMlqF4IW",
        "outputId": "80d4f78d-ab5c-4e27-9f39-813aea32cc80"
      },
      "execution_count": 6,
      "outputs": [
        {
          "output_type": "stream",
          "name": "stdout",
          "text": [
            "presiona 0 para los dias de la semana y 2 para cerrar el programa: 0\n",
            "lunes\n",
            "martes\n",
            "miercoles\n",
            "jueves\n",
            "viernes\n",
            "sabado\n",
            "domingo\n"
          ]
        }
      ]
    }
  ]
}